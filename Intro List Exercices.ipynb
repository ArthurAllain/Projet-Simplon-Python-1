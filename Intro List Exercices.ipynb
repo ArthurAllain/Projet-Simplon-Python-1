{
 "cells": [
  {
   "cell_type": "code",
   "execution_count": 16,
   "id": "34ab04c9",
   "metadata": {},
   "outputs": [
    {
     "name": "stdout",
     "output_type": "stream",
     "text": [
      "Python\n",
      "C\n",
      "Java\n"
     ]
    }
   ],
   "source": [
    "langs = [\"python\", \"c\", \"java\"];\n",
    "\n",
    "lang =langs[0];\n",
    "\n",
    "print(lang.title());\n",
    "\n",
    "lang=langs[1];\n",
    "\n",
    "print(lang.title());\n",
    "\n",
    "lang=langs[2];\n",
    "\n",
    "print(lang.title());"
   ]
  },
  {
   "cell_type": "code",
   "execution_count": 15,
   "id": "3c8ff26a",
   "metadata": {},
   "outputs": [
    {
     "name": "stdout",
     "output_type": "stream",
     "text": [
      "A nice programming language is Python\n",
      "A nice programming language is C\n",
      "A nice programming language is Java\n"
     ]
    }
   ],
   "source": [
    "langs = [\"python\", \"c\", \"java\"];\n",
    "\n",
    "print(\"A nice programming language is \" + langs[0].title());\n",
    "print(\"A nice programming language is \" + langs[1].title());\n",
    "print(\"A nice programming language is \" + langs[2].title());"
   ]
  },
  {
   "cell_type": "code",
   "execution_count": 13,
   "id": "f3f84944",
   "metadata": {},
   "outputs": [
    {
     "name": "stdout",
     "output_type": "stream",
     "text": [
      "One item in my shopping list is : shampoing\n"
     ]
    }
   ],
   "source": [
    "shop_list = [\"lessive vaisselle\",\"lessive linge\", \"shampooing\", \"café\", \"petit dèj\"];\n",
    "\n",
    "print(\"One item in my shopping list is : \" + shop_list[2]);"
   ]
  },
  {
   "cell_type": "code",
   "execution_count": null,
   "id": "895d9ea4",
   "metadata": {},
   "outputs": [],
   "source": []
  }
 ],
 "metadata": {
  "kernelspec": {
   "display_name": "Python 3 (ipykernel)",
   "language": "python",
   "name": "python3"
  },
  "language_info": {
   "codemirror_mode": {
    "name": "ipython",
    "version": 3
   },
   "file_extension": ".py",
   "mimetype": "text/x-python",
   "name": "python",
   "nbconvert_exporter": "python",
   "pygments_lexer": "ipython3",
   "version": "3.9.7"
  }
 },
 "nbformat": 4,
 "nbformat_minor": 5
}
