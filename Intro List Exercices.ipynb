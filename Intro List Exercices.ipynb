{
 "cells": [
  {
   "cell_type": "code",
   "execution_count": 16,
   "id": "34ab04c9",
   "metadata": {},
   "outputs": [
    {
     "name": "stdout",
     "output_type": "stream",
     "text": [
      "Python\n",
      "C\n",
      "Java\n"
     ]
    }
   ],
   "source": [
    "langs = [\"python\", \"c\", \"java\"];\n",
    "\n",
    "lang =langs[0];\n",
    "print(lang.title());\n",
    "lang=langs[1];\n",
    "print(lang.title());\n",
    "lang=langs[2];\n",
    "print(lang.title());"
   ]
  },
  {
   "cell_type": "code",
   "execution_count": 15,
   "id": "3c8ff26a",
   "metadata": {},
   "outputs": [
    {
     "name": "stdout",
     "output_type": "stream",
     "text": [
      "A nice programming language is Python\n",
      "A nice programming language is C\n",
      "A nice programming language is Java\n"
     ]
    }
   ],
   "source": [
    "langs = [\"python\", \"c\", \"java\"];\n",
    "\n",
    "print(\"A nice programming language is \" + langs[0].title());\n",
    "print(\"A nice programming language is \" + langs[1].title());\n",
    "print(\"A nice programming language is \" + langs[2].title());"
   ]
  },
  {
   "cell_type": "code",
   "execution_count": 1,
   "id": "f3f84944",
   "metadata": {},
   "outputs": [
    {
     "name": "stdout",
     "output_type": "stream",
     "text": [
      "One item in my shopping list is : shampooing\n"
     ]
    }
   ],
   "source": [
    "shop_list = [\"lessive vaisselle\",\"lessive linge\", \"shampooing\", \"café\", \"petit dèj\"];\n",
    "\n",
    "print(\"One item in my shopping list is : \" + shop_list[2]);"
   ]
  },
  {
   "cell_type": "code",
   "execution_count": 1,
   "id": "895d9ea4",
   "metadata": {},
   "outputs": [
    {
     "name": "stdout",
     "output_type": "stream",
     "text": [
      "Python\n",
      "C\n",
      "Java\n"
     ]
    }
   ],
   "source": [
    "langs = [\"python\", \"c\", \"java\"];\n",
    "\n",
    "for lang in langs:\n",
    "    print(lang.title());"
   ]
  },
  {
   "cell_type": "code",
   "execution_count": 4,
   "id": "e15aa49e",
   "metadata": {},
   "outputs": [
    {
     "name": "stdout",
     "output_type": "stream",
     "text": [
      "A nice programming language is Python.\n",
      "A nice programming language is C.\n",
      "A nice programming language is Java.\n"
     ]
    }
   ],
   "source": [
    "langs = [\"python\", \"c\", \"java\"];\n",
    "\n",
    "for lang in langs:\n",
    "    print(\"A nice programming language is \" + lang.title() + \".\");"
   ]
  },
  {
   "cell_type": "code",
   "execution_count": 6,
   "id": "7c245a60",
   "metadata": {},
   "outputs": [
    {
     "name": "stdout",
     "output_type": "stream",
     "text": [
      "In my shopping list I have : lessive vaisselle\n",
      "In my shopping list I have : lessive linge\n",
      "In my shopping list I have : shampooing\n",
      "In my shopping list I have : café\n",
      "In my shopping list I have : petit dèj\n"
     ]
    }
   ],
   "source": [
    "shop_list = [\"lessive vaisselle\",\"lessive linge\", \"shampooing\", \"café\", \"petit dèj\"];\n",
    "\n",
    "for shop_item in shop_list :\n",
    "    print(\"In my shopping list I have : \" + shop_item);"
   ]
  },
  {
   "cell_type": "code",
   "execution_count": 24,
   "id": "1bf65b8b",
   "metadata": {},
   "outputs": [
    {
     "name": "stdout",
     "output_type": "stream",
     "text": [
      "3\n",
      "True\n",
      "['Streamer', 'Progammer', 'Truck driver', 'Teacher', 'Engineer', 'Mason']\n",
      "['Marine Biologist', 'Streamer', 'Progammer', 'Truck driver', 'Teacher', 'Engineer', 'Mason']\n",
      "Marine Biologist\n",
      "Streamer\n",
      "Progammer\n",
      "Truck driver\n",
      "Teacher\n",
      "Engineer\n",
      "Mason\n"
     ]
    }
   ],
   "source": [
    "careers = [\"Streamer\", \"Progammer\", \"Truck driver\", \"Teacher\", \"Engineer\"];\n",
    "index = careers.index(\"Teacher\");\n",
    "\n",
    "print(index);\n",
    "\n",
    "print(\"Teacher\" in careers);\n",
    "\n",
    "careers.append(\"Mason\");\n",
    "print(careers);\n",
    "\n",
    "careers.insert(0, \"Marine Biologist\");\n",
    "print(careers);\n",
    "\n",
    "for index in careers:\n",
    "    print(index);"
   ]
  },
  {
   "cell_type": "code",
   "execution_count": 32,
   "id": "b31c1770",
   "metadata": {},
   "outputs": [
    {
     "name": "stdout",
     "output_type": "stream",
     "text": [
      "[]\n",
      "['Marine Biologist']\n",
      "['Marine Biologist', 'Streamer']\n",
      "['Marine Biologist', 'Streamer', 'Programmer']\n",
      "['Marine Biologist', 'Streamer', 'Programmer', 'Truck driver']\n",
      "['Marine Biologist', 'Streamer', 'Programmer', 'Truck driver', 'Teacher']\n",
      "['Marine Biologist', 'Streamer', 'Programmer', 'Truck driver', 'Teacher', 'Engineer']\n",
      "['Marine Biologist', 'Streamer', 'Programmer', 'Truck driver', 'Teacher', 'Engineer', 'Mason']\n",
      "My first career choice was : Marine Biologist and my last career choice was : Truck driver.\n"
     ]
    }
   ],
   "source": [
    "careers = []\n",
    "print(careers);\n",
    "\n",
    "careers.append(\"Marine Biologist\");\n",
    "print(careers);\n",
    "\n",
    "careers.append(\"Streamer\");\n",
    "print(careers);\n",
    "\n",
    "careers.append(\"Programmer\");\n",
    "print(careers);\n",
    "\n",
    "careers.append(\"Truck driver\");\n",
    "print(careers);\n",
    "\n",
    "careers.append(\"Teacher\");\n",
    "print(careers);\n",
    "\n",
    "careers.append(\"Engineer\");\n",
    "print(careers);\n",
    "\n",
    "careers.append(\"Mason\");\n",
    "print(careers);\n",
    "\n",
    "print(\"My first career choice was : \" + careers[0] + \" and my last career choice was : \" + careers[3] + \".\" )"
   ]
  },
  {
   "cell_type": "code",
   "execution_count": 39,
   "id": "faaec844",
   "metadata": {},
   "outputs": [
    {
     "name": "stdout",
     "output_type": "stream",
     "text": [
      "List dans l'ordre original : \n",
      "Streamer\n",
      "Progammer\n",
      "Truck driver\n",
      "Teacher\n",
      "Engineer\n"
     ]
    }
   ],
   "source": [
    "careers = [\"Streamer\", \"Progammer\", \"Truck driver\", \"Teacher\", \"Engineer\"];\n",
    "\n",
    "print(\"Liste dans l'ordre original : \");\n",
    "for index in careers:\n",
    "    print (index);\n",
    "\n",
    "print(\"Liste dans l'ordre alphabetique\")"
   ]
  },
  {
   "cell_type": "code",
   "execution_count": null,
   "id": "4d11fb30",
   "metadata": {},
   "outputs": [],
   "source": []
  }
 ],
 "metadata": {
  "kernelspec": {
   "display_name": "Python 3 (ipykernel)",
   "language": "python",
   "name": "python3"
  },
  "language_info": {
   "codemirror_mode": {
    "name": "ipython",
    "version": 3
   },
   "file_extension": ".py",
   "mimetype": "text/x-python",
   "name": "python",
   "nbconvert_exporter": "python",
   "pygments_lexer": "ipython3",
   "version": "3.9.7"
  }
 },
 "nbformat": 4,
 "nbformat_minor": 5
}
