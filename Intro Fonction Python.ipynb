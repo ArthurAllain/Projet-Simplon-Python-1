{
 "cells": [
  {
   "cell_type": "code",
   "execution_count": 19,
   "id": "2adc5fcf",
   "metadata": {},
   "outputs": [
    {
     "name": "stdout",
     "output_type": "stream",
     "text": [
      "Greetings Arthur\n",
      "Bonjour Arthur\n",
      "Guttentag Arthur\n",
      "\n",
      "Greetings Nicolas\n",
      "Bonjour Nicolas\n",
      "Guttentag Nicolas\n",
      "\n",
      "Greetings Guido\n",
      "Bonjour Guido\n",
      "Guttentag Guido\n",
      "\n"
     ]
    }
   ],
   "source": [
    "def Hello(name):\n",
    "    print(\"Greetings \" + name);\n",
    "    print(\"Bonjour \" + name);\n",
    "    print(\"Guttentag \" + name + \"\\n\");\n",
    "    \n",
    "\n",
    "Hello(\"Arthur\");\n",
    "Hello(\"Nicolas\");\n",
    "Hello(\"Guido\");"
   ]
  },
  {
   "cell_type": "code",
   "execution_count": 29,
   "id": "1051c296",
   "metadata": {},
   "outputs": [
    {
     "name": "stdout",
     "output_type": "stream",
     "text": [
      "Greetings Arthur\n",
      "Bonjours Arthur\n",
      "Guttentag Arthur\n",
      "Greetings Nicolas\n",
      "Bonjours Nicolas\n",
      "Guttentag Nicolas\n",
      "Greetings Guido\n",
      "Bonjours Guido\n",
      "Guttentag Guido\n"
     ]
    }
   ],
   "source": [
    "peoples = [\"Arthur\", \"Nicolas\", \"Guido\"]\n",
    "messages = [\"Greetings\", \"Bonjours\", \"Guttentag\"]\n",
    "\n",
    "\n",
    "def Bonjour(messages, peoples):\n",
    "    for people in peoples:\n",
    "        for message in messages:\n",
    "            print(message + \" \" + people);\n",
    "    \n",
    "\n",
    "Bonjour(messages, peoples);"
   ]
  },
  {
   "cell_type": "code",
   "execution_count": 32,
   "id": "e7e2f833",
   "metadata": {},
   "outputs": [
    {
     "name": "stdout",
     "output_type": "stream",
     "text": [
      "Hello Arthur Allain how are you today ?\n",
      "Hello Nicolas Duval how are you today ?\n",
      "Hello Guido van Rossum how are you today ?\n"
     ]
    }
   ],
   "source": [
    "def full_name(first_name, last_name):\n",
    "    print(\"Hello \" + first_name + \" \" + last_name + \" how are you today ?\");\n",
    "\n",
    "full_name(\"Arthur\", \"Allain\");\n",
    "full_name(\"Nicolas\", \"Duval\");\n",
    "full_name(\"Guido\",\"van Rossum\");"
   ]
  },
  {
   "cell_type": "code",
   "execution_count": 49,
   "id": "d9287dd0",
   "metadata": {},
   "outputs": [
    {
     "name": "stdout",
     "output_type": "stream",
     "text": [
      "2 + 3 = 5\n",
      "25 + 5 = 30\n",
      "49 + 32 = 81\n"
     ]
    }
   ],
   "source": [
    "def add(num1, num2):\n",
    "    print(\"%d + %d = %d\"  % (num1,num2,num1+num2));\n",
    "\n",
    "add(2, 3);\n",
    "add(25, 5);\n",
    "add(49, 32);\n"
   ]
  },
  {
   "cell_type": "code",
   "execution_count": 58,
   "id": "3bd2b318",
   "metadata": {},
   "outputs": [
    {
     "name": "stdout",
     "output_type": "stream",
     "text": [
      "2 + 3 = 5\n",
      "25 + 5 = 30\n",
      "49 + 32 = 81\n"
     ]
    }
   ],
   "source": [
    "def add(num1, num2):\n",
    "    num3 = num1 + num2;\n",
    "    return(\"%d + %d = %d\"  % (num1,num2,num3))\n",
    "\n",
    "\n",
    "print(add(2, 3));\n",
    "print(add(25, 5));\n",
    "print(add(49, 32));"
   ]
  },
  {
   "cell_type": "code",
   "execution_count": null,
   "id": "39150dae",
   "metadata": {},
   "outputs": [],
   "source": []
  }
 ],
 "metadata": {
  "kernelspec": {
   "display_name": "Python 3 (ipykernel)",
   "language": "python",
   "name": "python3"
  },
  "language_info": {
   "codemirror_mode": {
    "name": "ipython",
    "version": 3
   },
   "file_extension": ".py",
   "mimetype": "text/x-python",
   "name": "python",
   "nbconvert_exporter": "python",
   "pygments_lexer": "ipython3",
   "version": "3.9.7"
  }
 },
 "nbformat": 4,
 "nbformat_minor": 5
}
